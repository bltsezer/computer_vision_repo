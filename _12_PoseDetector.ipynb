{
  "nbformat": 4,
  "nbformat_minor": 0,
  "metadata": {
    "colab": {
      "name": "_12_PoseDetector.ipynb",
      "private_outputs": true,
      "provenance": [],
      "authorship_tag": "ABX9TyPHhnEc1bxUy6qnD7PKkIFx",
      "include_colab_link": true
    },
    "kernelspec": {
      "name": "python3",
      "display_name": "Python 3"
    },
    "language_info": {
      "name": "python"
    }
  },
  "cells": [
    {
      "cell_type": "markdown",
      "metadata": {
        "id": "view-in-github",
        "colab_type": "text"
      },
      "source": [
        "<a href=\"https://colab.research.google.com/github/bltsezer/computer_vision_repo/blob/main/_12_PoseDetector.ipynb\" target=\"_parent\"><img src=\"https://colab.research.google.com/assets/colab-badge.svg\" alt=\"Open In Colab\"/></a>"
      ]
    },
    {
      "cell_type": "code",
      "metadata": {
        "id": "UgNgnrTy78Zz"
      },
      "source": [
        "!pip install mediapipe"
      ],
      "execution_count": null,
      "outputs": []
    },
    {
      "cell_type": "code",
      "metadata": {
        "id": "iVVrvqoC7c0B"
      },
      "source": [
        "import cv2\n",
        "import mediapipe as mp\n",
        "import time\n",
        "import math"
      ],
      "execution_count": null,
      "outputs": []
    },
    {
      "cell_type": "code",
      "metadata": {
        "id": "8w60vw_V5CDn"
      },
      "source": [
        "\n",
        "class PoseDetector():\n",
        "  def __init__(self, mode=False, upBody=False, smooth=True,\n",
        "                 detectionCon=0.5, trackCon=0.5):\n",
        "    self.mode = mode\n",
        "    self.upBody = upBody\n",
        "    self.smooth = smooth\n",
        "    self.detectionCon = detectionCon\n",
        "    self.trackCon = trackCon\n",
        "\n",
        "    self.mpDraw = mp.solutions.drawing_utils\n",
        "    self.mpPose = mp.solutions.pose\n",
        "    self.pose = self.mpPose.Pose(self.mode, self.upBody, self.smooth,\n",
        "                                  self.detectionCon, self.trackCon)\n",
        "\n",
        "  def findPose(self, img, draw=True):\n",
        "    imgRGB = cv2.cvtColor(img, cv2.COLOR_BGR2RGB)\n",
        "    self.results = self.pose.process(imgRGB)\n",
        "    if self.results.pose_landmarks:\n",
        "        if draw:\n",
        "            self.mpDraw.draw_landmarks(img, self.results.pose_landmarks,\n",
        "                                        self.mpPose.POSE_CONNECTIONS)\n",
        "    return img\n",
        "\n",
        "  def findPosition(self, img, draw=True):\n",
        "    self.lmList = []\n",
        "    if self.results.pose_landmarks:\n",
        "        for id, lm in enumerate(self.results.pose_landmarks.landmark):\n",
        "            h, w, c = img.shape\n",
        "            cx, cy = int(lm.x * w), int(lm.y * h)\n",
        "            self.lmList.append([id, cx, cy])\n",
        "            if draw:\n",
        "                cv2.circle(img, (cx, cy), 5, (255, 0, 0), cv2.FILLED)\n",
        "    return self.lmList\n",
        "\n",
        "    def findAngle(self, img, p1, p2, p3, draw=True):\n",
        "      \n",
        "      x1, y1 = self.lmList[p1][1:]\n",
        "      x2, y2 = self.lmList[p2][1:]\n",
        "      x3, y3 = self.lmList[p3][1:]\n",
        "\n",
        "      # Calculate the Angle\n",
        "      angle = math.degrees(math.atan2(y3 - y2, x3 - x2) -\n",
        "                            math.atan2(y1 - y2, x1 - x2))\n",
        "      if angle < 0:\n",
        "          angle += 360\n",
        "\n",
        "      if draw:\n",
        "          cv2.line(img, (x1, y1), (x2, y2), (255, 255, 255), 3)\n",
        "          cv2.line(img, (x3, y3), (x2, y2), (255, 255, 255), 3)\n",
        "          cv2.circle(img, (x1, y1), 10, (0, 0, 255), cv2.FILLED)\n",
        "          cv2.circle(img, (x1, y1), 15, (0, 0, 255), 2)\n",
        "          cv2.circle(img, (x2, y2), 10, (0, 0, 255), cv2.FILLED)\n",
        "          cv2.circle(img, (x2, y2), 15, (0, 0, 255), 2)\n",
        "          cv2.circle(img, (x3, y3), 10, (0, 0, 255), cv2.FILLED)\n",
        "          cv2.circle(img, (x3, y3), 15, (0, 0, 255), 2)\n",
        "          cv2.putText(img, str(int(angle)), (x2 - 50, y2 + 50),\n",
        "                      cv2.FONT_HERSHEY_PLAIN, 2, (0, 0, 255), 2)\n",
        "      return angle\n"
      ],
      "execution_count": null,
      "outputs": []
    },
    {
      "cell_type": "code",
      "metadata": {
        "id": "LKxh04HI6RNk"
      },
      "source": [
        "class CamPoseEstimate():\n",
        "  def __init__(self,dev):\n",
        "    self.cap = cv2.VideoCapture(dev)\n",
        "    self.pTime = 0\n",
        "    self.detector = PoseDetector()\n",
        "    self.start()\n",
        "\n",
        "  def start(self):\n",
        "    while True:\n",
        "      success, img = self.cap.read()\n",
        "      img = self.detector.findPose(img)\n",
        "      lmList = self.detector.findPosition(img, draw=False)\n",
        "      if len(lmList) !=0:\n",
        "          print(lmList[14])\n",
        "          cv2.circle(img, (lmList[14][1], lmList[14][2]), 15, (0, 0, 255), cv2.FILLED)\n",
        "\n",
        "      cTime = time.time()\n",
        "      fps = 1 / (cTime - pTime)\n",
        "      pTime = cTime\n",
        "\n",
        "      cv2.putText(img, str(int(fps)), (70, 50), cv2.FONT_HERSHEY_PLAIN, 3,\n",
        "                  (255, 0, 0), 3)\n",
        "\n",
        "      cv2.imshow(\"Image\", img)\n",
        "      cv2.waitKey(1)\n",
        "\n",
        "ss=CamPoseEstimate('test.mp4')\n",
        "ss"
      ],
      "execution_count": null,
      "outputs": []
    },
    {
      "cell_type": "code",
      "metadata": {
        "id": "tRpAqQ9dAQGo"
      },
      "source": [
        "!pwd\n",
        "!ls"
      ],
      "execution_count": null,
      "outputs": []
    }
  ]
}