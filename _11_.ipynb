{
  "nbformat": 4,
  "nbformat_minor": 0,
  "metadata": {
    "colab": {
      "name": "_11_.ipynb",
      "private_outputs": true,
      "provenance": [],
      "authorship_tag": "ABX9TyOg7F7yAOmCel2G9oyEThr8",
      "include_colab_link": true
    },
    "kernelspec": {
      "name": "python3",
      "display_name": "Python 3"
    },
    "language_info": {
      "name": "python"
    }
  },
  "cells": [
    {
      "cell_type": "markdown",
      "metadata": {
        "id": "view-in-github",
        "colab_type": "text"
      },
      "source": [
        "<a href=\"https://colab.research.google.com/github/bltsezer/computer_vision_repo/blob/main/_11_.ipynb\" target=\"_parent\"><img src=\"https://colab.research.google.com/assets/colab-badge.svg\" alt=\"Open In Colab\"/></a>"
      ]
    },
    {
      "cell_type": "code",
      "metadata": {
        "id": "nkCIF6MFV6vN"
      },
      "source": [
        "!pwd\n",
        "!ls\n",
        "!pip install cvzone"
      ],
      "execution_count": null,
      "outputs": []
    },
    {
      "cell_type": "code",
      "metadata": {
        "id": "YUmkaHxBa8jb"
      },
      "source": [
        "import cv2\n",
        "import numpy as np\n",
        "import cvzone"
      ],
      "execution_count": null,
      "outputs": []
    },
    {
      "cell_type": "code",
      "metadata": {
        "id": "6QwMj18sXyal"
      },
      "source": [
        "from google.colab.patches import cv2_imshow\n",
        "class OverlayImage():\n",
        "  def __init__(self):\n",
        "    imgBack = np.ones((480, 640, 3), np.uint8)\n",
        "    imgFront = cv2.imread(\"Resource/gear.png\", cv2.IMREAD_UNCHANGED)\n",
        "    imgFront = cv2.resize(imgFront, (0, 0), None, 0.3, 0.25)\n",
        "    self.imgResult = cvzone.overlayPNG(imgBack, imgFront, [100, 100])\n",
        "\n",
        "  def showImage(self):\n",
        "    #cv2.imshow(\"Image\", self.imgResult)\n",
        "    cv2_imshow(self.imgResult)\n",
        "    cv2.waitKey(0)\n"
      ],
      "execution_count": null,
      "outputs": []
    },
    {
      "cell_type": "code",
      "metadata": {
        "id": "crkar4XGaLx2"
      },
      "source": [
        "class OverlayLogo():\n",
        "  def __init__(self):\n",
        "    imgBack = cv2.imread(\"Resource/pc.jpg\")\n",
        "    imgFront = cv2.imread(\"Resource/baes1.png\", cv2.IMREAD_UNCHANGED)\n",
        "    imgFront = cv2.resize(imgFront, (0, 0), None, 0.4, 0.3)\n",
        "\n",
        "    hf, wf, cf = imgFront.shape\n",
        "    hb, wb, cb = imgBack.shape\n",
        "    print(\"hb\",hb,\" - hf\",hf,\" =\",hb-hf)\n",
        "\n",
        "    self.imgResult = cvzone.overlayPNG(imgBack, imgFront, [0, hb-hf])\n",
        "\n",
        "  def showLogo(self):\n",
        "    #cv2.imshow(\"Image\", self.imgResult)\n",
        "    cv2_imshow(self.imgResult)\n",
        "    cv2.waitKey(0)\n",
        "\n",
        "ol=OverlayLogo()\n",
        "ol.showLogo()"
      ],
      "execution_count": null,
      "outputs": []
    },
    {
      "cell_type": "code",
      "metadata": {
        "id": "6uVnDF25b31p"
      },
      "source": [
        "class OverlayWebCam():\n",
        "    def __init__(self,dev):\n",
        "      self.cap = cv2.VideoCapture(dev)\n",
        "      self.startCamera()\n",
        "\n",
        "    def startCamera(self):\n",
        "      success, img = self.cap.read()\n",
        "      imgFront = cv2.imread(\"Resource/baes1.png\", cv2.IMREAD_UNCHANGED)\n",
        "      imgFront = cv2.resize(imgFront, (0, 0), None, 0.3, 0.3)\n",
        "\n",
        "      hf, wf, cf = imgFront.shape\n",
        "      hb, wb, cb = img.shape\n",
        "      \n",
        "\n",
        "      fpsReader = cvzone.FPS()\n",
        "      while True:\n",
        "        success, img = self.cap.read()\n",
        "        imgResult = cvzone.overlayPNG(img, imgFront, [0, hb-hf])\n",
        "        _, imgResult = fpsReader.update(imgResult)\n",
        "        cv2.imshow(\"Image\", imgResult)\n",
        "        cv2.waitKey(1)\n",
        "\n",
        "cam=OverlayWebCam(\"test.mp4\")"
      ],
      "execution_count": null,
      "outputs": []
    },
    {
      "cell_type": "code",
      "metadata": {
        "id": "Gn-UXXivtTqR"
      },
      "source": [
        ""
      ],
      "execution_count": null,
      "outputs": []
    },
    {
      "cell_type": "code",
      "metadata": {
        "id": "SucxddsPhOmj"
      },
      "source": [
        "from IPython.display import display, Javascript\n",
        "from google.colab.output import eval_js\n",
        "from base64 import b64decode\n",
        "\n",
        "def take_photo(filename='photo.jpg', quality=0.8):\n",
        "  js = Javascript('''\n",
        "    async function takePhoto(quality) {\n",
        "      const div = document.createElement('div');\n",
        "      const capture = document.createElement('button');\n",
        "      capture.textContent = 'Capture';\n",
        "      div.appendChild(capture);\n",
        "\n",
        "      const video = document.createElement('video');\n",
        "      video.style.display = 'block';\n",
        "      const stream = await navigator.mediaDevices.getUserMedia({video: true});\n",
        "\n",
        "      document.body.appendChild(div);\n",
        "      div.appendChild(video);\n",
        "      video.srcObject = stream;\n",
        "      await video.play();\n",
        "\n",
        "      // Resize the output to fit the video element.\n",
        "      google.colab.output.setIframeHeight(document.documentElement.scrollHeight, true);\n",
        "\n",
        "      // Wait for Capture to be clicked.\n",
        "      await new Promise((resolve) => capture.onclick = resolve);\n",
        "\n",
        "      const canvas = document.createElement('canvas');\n",
        "      canvas.width = video.videoWidth;\n",
        "      canvas.height = video.videoHeight;\n",
        "      canvas.getContext('2d').drawImage(video, 0, 0);\n",
        "      stream.getVideoTracks()[0].stop();\n",
        "      div.remove();\n",
        "      return canvas.toDataURL('image/jpeg', quality);\n",
        "    }\n",
        "    ''')\n",
        "  display(js)\n",
        "  data = eval_js('takePhoto({})'.format(quality))\n",
        "  binary = b64decode(data.split(',')[1])\n",
        "  with open(filename, 'wb') as f:\n",
        "    f.write(binary)\n",
        "  return filename\n",
        "\n"
      ],
      "execution_count": null,
      "outputs": []
    },
    {
      "cell_type": "code",
      "metadata": {
        "id": "HX4c1vQYcEws"
      },
      "source": [
        "import cvzone,cv2\n",
        "class GearRotation():\n",
        "  def __init__(self):\n",
        "    self.angle = 0\n",
        "    self.fpsReader = cvzone.FPS()\n",
        "\n",
        "\n",
        "  def showCamera(self):\n",
        "    cv2.namedWindow(\"Parameters\")\n",
        "    cv2.resizeWindow(\"Parameters\", 640, 100)\n",
        "    cv2.createTrackbar(\"Speed\", \"Parameters\", 1, 25)\n",
        "    while True:\n",
        "      imgBack = np.ones((500, 800, 3), np.uint8) * 255\n",
        "      imgG1 = cv2.imread(\"Resource/gear.png\", cv2.IMREAD_UNCHANGED)\n",
        "      imgG2 = imgG1.copy()\n",
        "\n",
        "      val = cv2.getTrackbarPos(\"Speed\", \"Parameters\")\n",
        "      imgG1 = cvzone.rotateImage(imgG1, angle + 23)\n",
        "      imgG2 = cvzone.rotateImage(imgG2, -angle)\n",
        "      self.angle += val\n",
        "\n",
        "      imgResult = cvzone.overlayPNG(imgBack, imgG1, [125, 100])\n",
        "      imgResult = cvzone.overlayPNG(imgResult, imgG2, [400, 100])\n",
        "      _, imgResult = self.fpsReader.update(imgResult)\n",
        "\n",
        "      cv2_imshow(imgResult)\n",
        "      cv2.waitKey(1)\n",
        "\n",
        "gr=GearRotation()\n",
        "gr.showCamera()"
      ],
      "execution_count": null,
      "outputs": []
    }
  ]
}